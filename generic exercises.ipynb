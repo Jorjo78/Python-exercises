{
 "cells": [
  {
   "cell_type": "code",
   "execution_count": null,
   "id": "00cf115f",
   "metadata": {},
   "outputs": [
    {
     "data": {
      "text/plain": [
       "24"
      ]
     },
     "execution_count": 6,
     "metadata": {},
     "output_type": "execute_result"
    }
   ],
   "source": [
    "## LISTS\n",
    "\n",
    "my_lists = ['alice', 30, [23, 24, 25]]\n",
    "my_lists[0]\n",
    "my_lists[2][1]\n",
    "\n"
   ]
  },
  {
   "cell_type": "code",
   "execution_count": null,
   "id": "5e63ba59",
   "metadata": {},
   "outputs": [],
   "source": [
    "## TUPLE\n",
    "coordinates = (10, 20)\n",
    "\n",
    "\n"
   ]
  },
  {
   "cell_type": "code",
   "execution_count": null,
   "id": "472a5444",
   "metadata": {},
   "outputs": [],
   "source": [
    "## SET (opposite of tuple)\n",
    "\n",
    "unique_numbers = {1,2,3,4}\n",
    "\n",
    "\n",
    "                  "
   ]
  },
  {
   "cell_type": "code",
   "execution_count": null,
   "id": "60118cf8",
   "metadata": {},
   "outputs": [],
   "source": [
    "## Dictionary\n",
    "\n",
    "person = {'name' : 'Alice', 'age': 30, 'city': 'New York'}"
   ]
  },
  {
   "cell_type": "code",
   "execution_count": null,
   "id": "99d71155",
   "metadata": {},
   "outputs": [
    {
     "name": "stdout",
     "output_type": "stream",
     "text": [
      "[[1, 2, 3], [4, 5, 6], [7, 8, 9]]\n"
     ]
    }
   ],
   "source": [
    "## create a Python 2D list from empty argument\n",
    "def create_table():\n",
    "    data = [[1,2,3],\n",
    "            [4,5,6],\n",
    "            [7,8,9]\n",
    "            ]\n",
    "    return data\n",
    "\n",
    "df = create_table()\n",
    "print(df)\n"
   ]
  },
  {
   "cell_type": "code",
   "execution_count": 4,
   "id": "b190ebb5",
   "metadata": {},
   "outputs": [
    {
     "name": "stdout",
     "output_type": "stream",
     "text": [
      "   0  1  2\n",
      "0  1  2  3\n",
      "1  4  5  6\n",
      "2  7  8  9\n"
     ]
    }
   ],
   "source": [
    "## create a Python dataframe from empty argument\n",
    "import pandas as pd\n",
    "\n",
    "def create_table():\n",
    "    data = [1,2,3],[4,5,6],[7,8,9]\n",
    "    return pd.DataFrame(data)\n",
    "\n",
    "\n",
    "df_pd = create_table()\n",
    "print(df_pd)\n",
    "             \n",
    "    "
   ]
  },
  {
   "cell_type": "code",
   "execution_count": null,
   "id": "fa1ab514",
   "metadata": {},
   "outputs": [],
   "source": [
    "## Find the Maximum Number\n",
    "numbers = [3, 7, 2, 9]\n",
    "\n",
    "def find_max():\n",
    "    # Initialize max_num with the first element of the list\n",
    "    # This gives us a starting point for comparisons\n",
    "    max_num = numbers[0]\n",
    "    \n",
    "    # Iterate through each number in the list\n",
    "    for i in numbers:\n",
    "        # If current number is greater than our current max_num\n",
    "        # Update max_num to store the new largest number\n",
    "        if i > max_num:\n",
    "            max_num = i\n",
    "    \n",
    "    # Return the largest number found\n",
    "    return max_num\n",
    "\n",
    "print(find_max())"
   ]
  },
  {
   "cell_type": "code",
   "execution_count": 5,
   "id": "578e1540",
   "metadata": {},
   "outputs": [],
   "source": [
    "## Palindrome Checker\n",
    "word = 'racecar'\n",
    "\n",
    "def is_palindrome(word):\n",
    "    # Convert the input word to lowercase to ensure the check is case-insensitive\n",
    "    word = word.lower()\n",
    "    # Check if the word is the same forwards and backwards\n",
    "    # word[::-1] reverses the string\n",
    "    if word == word[::-1]:    # word[start:stop:step], [::-1]: reverse the string\n",
    "        return True           # If the word is the same reversed, it's a palindrome\n",
    "    else:\n",
    "        return False          # Otherwise, it's not a palindrome"
   ]
  },
  {
   "cell_type": "code",
   "execution_count": 6,
   "id": "1c6250a8",
   "metadata": {},
   "outputs": [
    {
     "data": {
      "text/plain": [
       "True"
      ]
     },
     "execution_count": 6,
     "metadata": {},
     "output_type": "execute_result"
    }
   ],
   "source": [
    "is_palindrome(word)"
   ]
  },
  {
   "cell_type": "code",
   "execution_count": null,
   "id": "334b5b48",
   "metadata": {},
   "outputs": [],
   "source": [
    "## fibonacci\n",
    "\n",
    "def fibonacci(n):\n",
    "    # Base case: if n is 0 or 1, return n directly\n",
    "    if n == 0 or n == 1:\n",
    "        return n\n",
    "    else:\n",
    "        # Recursive case: sum of the previous two Fibonacci numbers\n",
    "        return fibonacci(n - 1) + fibonacci(n - 2)\n",
    "\n",
    "# Example usage: calculate the 3rd Fibonacci number\n",
    "fibonacci(3)"
   ]
  },
  {
   "cell_type": "code",
   "execution_count": null,
   "id": "399b110e",
   "metadata": {},
   "outputs": [],
   "source": [
    "## Count Vowels in a string\n",
    " \n",
    "def count_vowels(word):\n",
    "    # Initialize a counter to keep track of the number of vowels\n",
    "    count = 0\n",
    "    # Loop through each character in the input word\n",
    "    for i in word:\n",
    "        # Check if the character is a vowel (a, e, i, o, u)\n",
    "        if i in \"aeiou\":\n",
    "            # If it is, increment the counter by 1\n",
    "            count = count + 1\n",
    "    # Return the total count of vowels found in the word\n",
    "    return count\n",
    "     \n",
    "\n",
    "count_vowels('racecar')"
   ]
  },
  {
   "cell_type": "code",
   "execution_count": 1,
   "id": "02fd0799",
   "metadata": {},
   "outputs": [
    {
     "data": {
      "text/plain": [
       "'He said \"no\" to me'"
      ]
     },
     "execution_count": 1,
     "metadata": {},
     "output_type": "execute_result"
    }
   ],
   "source": [
    "\"He said \\\"no\\\" to me\""
   ]
  },
  {
   "cell_type": "code",
   "execution_count": 7,
   "id": "0e471ab7",
   "metadata": {},
   "outputs": [
    {
     "name": "stdout",
     "output_type": "stream",
     "text": [
      "Player: Davide Sirena\n",
      "Player: Roberto Vecchi\n",
      "Player: Alessio Recchi\n"
     ]
    }
   ],
   "source": [
    "players = ['davide sirena', 'roberto vecchi', 'alessio recchi']\n",
    "if players:\n",
    "    for player in players:\n",
    "        print(f\"Player: {player.title()}\") \n",
    "else:\n",
    "    print(\"We have no players yet!\")\n"
   ]
  },
  {
   "cell_type": "code",
   "execution_count": null,
   "id": "47cf67c3",
   "metadata": {},
   "outputs": [],
   "source": [
    "# Define a list containing three player names as strings\n",
    "players = ['davide sirena', 'roberto vecchi', 'alessio recchi']\n",
    "\n",
    "# Check if the players list is not empty (has at least one element)\n",
    "if players:\n",
    "    # Loop through each player name in the players list\n",
    "    for player in players:\n",
    "        # Print each player's name with title case formatting (capitalizes first letter of each word)\n",
    "        print(f\"Player: {player.title()}\")\n",
    "else:\n",
    "    # If the players list is empty, print this message\n",
    "    print(\"We have no players yet!\")"
   ]
  },
  {
   "cell_type": "code",
   "execution_count": 19,
   "id": "7b60404d",
   "metadata": {},
   "outputs": [
    {
     "name": "stdout",
     "output_type": "stream",
     "text": [
      "Hello, Giorgio.\n"
     ]
    }
   ],
   "source": [
    "name = input(\"What's your name? \")\n",
    "print(f\"Hello, {name}.\")\n"
   ]
  },
  {
   "cell_type": "code",
   "execution_count": null,
   "id": "54075444",
   "metadata": {},
   "outputs": [
    {
     "name": "stdout",
     "output_type": "stream",
     "text": [
      "\n",
      "You can vote!\n"
     ]
    }
   ],
   "source": [
    "age = input(\"How old are you? \")\n",
    "age = int(age)\n",
    "if age >= 18:\n",
    "    print(\"\\nYou can vote!\")   \n",
    "else:\n",
    "    print(\"\\nYou can't vote yet.\")"
   ]
  },
  {
   "cell_type": "code",
   "execution_count": null,
   "id": "e15cd700",
   "metadata": {},
   "outputs": [],
   "source": [
    "# Prompt user for age input and store the string response\n",
    "age = input(\"How old are you? \")\n",
    "\n",
    "# Convert the string input to an integer for numerical comparison\n",
    "age = int(age)\n",
    "\n",
    "# Check if age is greater than or equal to 18 (voting age)\n",
    "if age >= 18:\n",
    "    # If 18 or older, print voting eligibility message with newline (\\n)\n",
    "    print(\"\\nYou can vote!\")   \n",
    "else:\n",
    "    # If under 18, print ineligibility message with newline\n",
    "    print(\"\\nYou can't vote yet.\")"
   ]
  },
  {
   "cell_type": "code",
   "execution_count": 23,
   "id": "dbff5895",
   "metadata": {},
   "outputs": [
    {
     "data": {
      "text/plain": [
       "50.0"
      ]
     },
     "execution_count": 23,
     "metadata": {},
     "output_type": "execute_result"
    }
   ],
   "source": [
    "tip = input(\"How much do you want to tip? \") \n",
    "tip = float(tip)\n",
    "tip"
   ]
  },
  {
   "cell_type": "code",
   "execution_count": 24,
   "id": "a8d10b16",
   "metadata": {},
   "outputs": [
    {
     "name": "stdout",
     "output_type": "stream",
     "text": [
      "1\n",
      "2\n",
      "3\n",
      "4\n",
      "5\n"
     ]
    }
   ],
   "source": [
    "current_number = 1\n",
    "while current_number <= 5:\n",
    "    print(current_number)\n",
    "    current_number += 1\n"
   ]
  },
  {
   "cell_type": "code",
   "execution_count": null,
   "id": "58a78f25",
   "metadata": {},
   "outputs": [],
   "source": [
    "# Initialize a list of numbers starting from 1\n",
    "current_number = 1\n",
    "\n",
    "# Continue loop as long as current_number is less than or equal to 5\n",
    "while current_number <= 5:\n",
    "    # Print the current number\n",
    "    print(current_number)\n",
    "    # Increment current_number by 1\n",
    "    current_number += 1"
   ]
  },
  {
   "cell_type": "code",
   "execution_count": 25,
   "id": "7f62142b",
   "metadata": {},
   "outputs": [
    {
     "name": "stdout",
     "output_type": "stream",
     "text": [
      "['dog', 'cat', 'dog', 'fish', 'cat', 'rabbit', 'cat']\n",
      "['dog', 'dog', 'fish', 'rabbit']\n"
     ]
    }
   ],
   "source": [
    "pets = ['dog', 'cat', 'dog', 'fish', 'cat', 'rabbit', 'cat']\n",
    "print(pets)\n",
    "\n",
    "while 'cat' in pets:\n",
    "    pets.remove('cat')\n",
    "    \n",
    "print(pets)\n"
   ]
  },
  {
   "cell_type": "code",
   "execution_count": null,
   "id": "7f5b9127",
   "metadata": {},
   "outputs": [],
   "source": [
    "# Initialize a list of pets with some duplicate values\n",
    "pets = ['dog', 'cat', 'dog', 'fish', 'cat', 'rabbit', 'cat']\n",
    "# Print the original list of pets\n",
    "print(pets)\n",
    "\n",
    "# Continue loop as long as 'cat' exists in the pets list\n",
    "while 'cat' in pets:\n",
    "    # Remove the first occurrence of 'cat' from the list\n",
    "    pets.remove('cat')\n",
    "    \n",
    "# Print the final list with all instances of 'cat' removed\n",
    "print(pets)"
   ]
  },
  {
   "cell_type": "code",
   "execution_count": 1,
   "id": "8f531e04",
   "metadata": {},
   "outputs": [
    {
     "data": {
      "text/plain": [
       "{'color': 'green', 'points': 5}"
      ]
     },
     "execution_count": 1,
     "metadata": {},
     "output_type": "execute_result"
    }
   ],
   "source": [
    "alien = {'color': 'green', 'points':5}\n",
    "alien"
   ]
  },
  {
   "cell_type": "code",
   "execution_count": 2,
   "id": "0e4cd46e",
   "metadata": {},
   "outputs": [
    {
     "name": "stdout",
     "output_type": "stream",
     "text": [
      "The alien's color is green\n"
     ]
    }
   ],
   "source": [
    "# Accessing Value\n",
    "print(\"The alien's color is \" + alien['color'])"
   ]
  },
  {
   "cell_type": "code",
   "execution_count": null,
   "id": "4f005a64",
   "metadata": {},
   "outputs": [
    {
     "data": {
      "text/plain": [
       "{'color': 'green', 'points': 5, 'x_position': 0}"
      ]
     },
     "execution_count": 3,
     "metadata": {},
     "output_type": "execute_result"
    }
   ],
   "source": [
    "## Adding a new Key-value pair\n",
    "alien['x_position'] = 0\n",
    "alien"
   ]
  },
  {
   "cell_type": "code",
   "execution_count": null,
   "id": "e02ac6dd",
   "metadata": {},
   "outputs": [
    {
     "name": "stdout",
     "output_type": "stream",
     "text": [
      "eric loves 17\n",
      "ever loves 4\n"
     ]
    }
   ],
   "source": [
    "fav_numbers = {'eric': 17, 'ever': 4}\n",
    "for name, number in fav_numbers.items():\n",
    "    print(name + ' loves ' + str(number)) "
   ]
  },
  {
   "cell_type": "code",
   "execution_count": null,
   "id": "0bfcd108",
   "metadata": {},
   "outputs": [],
   "source": [
    "# Create a dictionary with people's names as keys and their favorite numbers as values\n",
    "fav_numbers = {'eric': 17, 'ever': 4}\n",
    "\n",
    "# Loop through the dictionary using .items() which returns both keys and values\n",
    "for name, number in fav_numbers.items():\n",
    "    # Print a formatted string combining the name (key) and their favorite number (value)\n",
    "    # str() converts the number to a string for concatenation\n",
    "    print(name + ' loves ' + str(number))"
   ]
  },
  {
   "cell_type": "code",
   "execution_count": 5,
   "id": "16671fac",
   "metadata": {},
   "outputs": [
    {
     "name": "stdout",
     "output_type": "stream",
     "text": [
      "eric loves a number\n",
      "ever loves a number\n"
     ]
    }
   ],
   "source": [
    "fav_numbers = {'eric': 17, 'ever': 4}\n",
    "for name in fav_numbers.keys():\n",
    "    print(name + ' loves a number')\n"
   ]
  },
  {
   "cell_type": "code",
   "execution_count": 6,
   "id": "b1ce60a1",
   "metadata": {},
   "outputs": [
    {
     "name": "stdout",
     "output_type": "stream",
     "text": [
      "17 is a favorite\n",
      "4 is a favorite\n"
     ]
    }
   ],
   "source": [
    "fav_numbers = {'eric': 17, 'ever': 4}\n",
    "for number in fav_numbers.values():\n",
    "    print(str(number) + ' is a favorite')\n"
   ]
  },
  {
   "cell_type": "code",
   "execution_count": 14,
   "id": "490e890a",
   "metadata": {},
   "outputs": [
    {
     "name": "stdout",
     "output_type": "stream",
     "text": [
      "davide\n"
     ]
    }
   ],
   "source": [
    "prompt = \"\\nTell me something, and I'll \"\n",
    "prompt += \"repeat it back to you.\"\n",
    "prompt += \"\\nEnter 'quit' to end the program. \"\n",
    "\n",
    "message = \"\"\n",
    "while message != 'quit':\n",
    "    message = input(prompt)\n",
    "\n",
    "    if message != 'quit':\n",
    "        print(message)"
   ]
  },
  {
   "cell_type": "code",
   "execution_count": null,
   "id": "60238761",
   "metadata": {},
   "outputs": [],
   "source": [
    "# Create a multi-line prompt message using string concatenation\n",
    "prompt = \"\\nTell me something, and I'll \"\n",
    "prompt += \"repeat it back to you.\"\n",
    "prompt += \"\\nEnter 'quit' to end the program. \"\n",
    "\n",
    "# Initialize an empty message variable to store user input\n",
    "message = \"\"\n",
    "# Continue loop until user enters 'quit'\n",
    "while message != 'quit':\n",
    "    # Get input from user and store it in message variable\n",
    "    message = input(prompt)\n",
    "\n",
    "    # Only print the message if it's not 'quit'\n",
    "    if message != 'quit':\n",
    "        print(message)"
   ]
  },
  {
   "cell_type": "code",
   "execution_count": null,
   "id": "91b302bd",
   "metadata": {},
   "outputs": [],
   "source": [
    "# This line controls the loop by checking a condition:\n",
    "\n",
    "# The loop will keep running as long as message is not equal to 'quit'.\n",
    "# As soon as the user types \"quit\" (exactly, lowercase), the condition message != 'quit' becomes false,\n",
    "# and the loop stops—i.e., it exits naturally."
   ]
  },
  {
   "cell_type": "code",
   "execution_count": 16,
   "id": "64f0a5f0",
   "metadata": {},
   "outputs": [
    {
     "name": "stdout",
     "output_type": "stream",
     "text": [
      "tsardi\n"
     ]
    }
   ],
   "source": [
    "prompt = \"\\nTell me something, and I'll \"\n",
    "prompt += \"repeat it back to you.\"\n",
    "prompt += \"\\nEnter 'quit' to end the program. \"\n",
    "\n",
    "active = True\n",
    "while active:\n",
    "    message = input(prompt)\n",
    "\n",
    "    if message == 'quit':\n",
    "        active = False\n",
    "    else:\n",
    "        print(message)\n"
   ]
  },
  {
   "cell_type": "code",
   "execution_count": 17,
   "id": "861f6471",
   "metadata": {},
   "outputs": [
    {
     "name": "stdout",
     "output_type": "stream",
     "text": [
      "AAPL is trading at $175.25\n",
      "AAPL is trading at $178.6\n"
     ]
    }
   ],
   "source": [
    "class Stock:\n",
    "    \"\"\"Represent a stock with a ticker and price.\"\"\"\n",
    "\n",
    "    def __init__(self, ticker, price):\n",
    "        self.ticker = ticker\n",
    "        self.price = price\n",
    "\n",
    "    def update_price(self, new_price):\n",
    "        self.price = new_price\n",
    "\n",
    "    def display(self):\n",
    "        print(f\"{self.ticker} is trading at ${self.price}\")\n",
    "\n",
    "# Create a stock instance\n",
    "apple = Stock('AAPL', 175.25)\n",
    "apple.display()\n",
    "\n",
    "apple.update_price(178.60)\n",
    "apple.display()"
   ]
  },
  {
   "cell_type": "code",
   "execution_count": null,
   "id": "a999730c",
   "metadata": {},
   "outputs": [],
   "source": [
    "class Stock:\n",
    "    \"\"\"Represent a stock with a ticker and price.\"\"\"  # Class docstring explaining purpose\n",
    "\n",
    "    def __init__(self, ticker, price):  # Constructor method with ticker and price parameters\n",
    "        self.ticker = ticker    # Initialize instance variable for stock ticker symbol\n",
    "        self.price = price      # Initialize instance variable for stock price\n",
    "\n",
    "    def update_price(self, new_price):  # Method to update the stock price\n",
    "        self.price = new_price          # Set instance price to new value\n",
    "\n",
    "    def display(self):                  # Method to display stock information\n",
    "        print(f\"{self.ticker} is trading at ${self.price}\")  # Print formatted string with ticker and price\n",
    "\n",
    "# Example usage:\n",
    "# Create a stock instance with ticker 'AAPL' and price 175.25\n",
    "apple = Stock('AAPL', 175.25)\n",
    "apple.display()                 # Call display method to show current stock info\n",
    "\n",
    "apple.update_price(178.60)      # Update the stock price to new value\n",
    "apple.display()                 # Display updated stock information"
   ]
  },
  {
   "cell_type": "code",
   "execution_count": null,
   "id": "200cfb60",
   "metadata": {},
   "outputs": [],
   "source": [
    "# What it means:\n",
    "# You're creating an object (also called an instance) of the Stock class.\n",
    "# 'AAPL' is the ticker symbol (Apple Inc.).\n",
    "# 175.25 is the initial price of the stock.\n",
    "# This line calls the __init__ method in the Stock class and gives it the ticker and price.\n",
    "# The object is stored in a variable named apple.\n",
    "# Plain English:\n",
    "# “Make a new stock called Apple with the symbol AAPL and a starting price of $175.25.”"
   ]
  },
  {
   "cell_type": "code",
   "execution_count": null,
   "id": "ca20d122",
   "metadata": {},
   "outputs": [],
   "source": [
    "# Is self required?\n",
    "# Yes, for all instance methods (like __init__, display, or update_price),\n",
    "# the first parameter must be self (or another name — but self is the convention).\n",
    "#  It tells Python:\n",
    "\n",
    "# “I’m working with a specific instance of the class.”"
   ]
  },
  {
   "cell_type": "code",
   "execution_count": null,
   "id": "93ccc756",
   "metadata": {},
   "outputs": [],
   "source": [
    "# Overview:\n",
    "# A class in Python is like a blueprint for creating objects (instances) that have both data (attributes) and behavior (methods/functions).\n",
    "# When we use a class as a pricing function, it means we use the class to calculate prices for different products, services, or scenarios by \n",
    "# packaging all the logic and rules into one organized structure."
   ]
  },
  {
   "cell_type": "code",
   "execution_count": null,
   "id": "64716501",
   "metadata": {},
   "outputs": [],
   "source": [
    "# Structure\n",
    "# Attributes: These store information needed for pricing (e.g., base price, tax rate, discounts). \n",
    "# Methods: Functions inside the class that calculate the final price or apply adjustments."
   ]
  },
  {
   "cell_type": "code",
   "execution_count": 5,
   "id": "98e74f54",
   "metadata": {},
   "outputs": [
    {
     "name": "stdout",
     "output_type": "stream",
     "text": [
      "96.30000000000001\n"
     ]
    }
   ],
   "source": [
    "class ProductPricing:\n",
    "    def __init__(self, base_price, tax_rate=0.05, discount=0):\n",
    "        self.base_price = base_price\n",
    "        self.tax_rate = tax_rate\n",
    "        self.discount = discount\n",
    "\n",
    "    def final_price(self):\n",
    "        price_after_discount = self.base_price - self.discount\n",
    "        price_with_tax = price_after_discount * (1 + self.tax_rate)\n",
    "        return price_with_tax\n",
    "\n",
    "# Usage:\n",
    "item = ProductPricing(base_price=100, tax_rate=0.07, discount=10)\n",
    "print(item.final_price())  # Outputs the final price with tax and discount\n"
   ]
  },
  {
   "cell_type": "code",
   "execution_count": null,
   "id": "d0336f20",
   "metadata": {},
   "outputs": [],
   "source": [
    "class ProductPricing:\n",
    "    \"\"\"A class to calculate final product prices including tax and discounts.\"\"\"\n",
    "    \n",
    "    def __init__(self, base_price, tax_rate=0.05, discount=0):\n",
    "        \"\"\"\n",
    "        Initialize the ProductPricing object.\n",
    "        \n",
    "        Args:\n",
    "            base_price (float): The original price of the product\n",
    "            tax_rate (float): The tax rate as a decimal (default 5% = 0.05)\n",
    "            discount (float): Amount to subtract from base price (default 0)\n",
    "        \"\"\"\n",
    "        self.base_price = base_price\n",
    "        self.tax_rate = tax_rate\n",
    "        self.discount = discount\n",
    "\n",
    "    def final_price(self):\n",
    "        \"\"\"\n",
    "        Calculate the final price after applying discount and tax.\n",
    "        \n",
    "        Returns:\n",
    "            float: The final price after discount and tax\n",
    "        \n",
    "        Process:\n",
    "            1. Subtract discount from base price\n",
    "            2. Apply tax to the discounted price\n",
    "        \"\"\"\n",
    "        # First apply the discount to get the pre-tax price\n",
    "        price_after_discount = self.base_price - self.discount\n",
    "        \n",
    "        # Then calculate final price by adding tax\n",
    "        # Formula: discounted_price * (1 + tax_rate)\n",
    "        price_with_tax = price_after_discount * (1 + self.tax_rate)\n",
    "        \n",
    "        return price_with_tax\n",
    "\n",
    "# Example usage:\n",
    "item = ProductPricing(base_price=100, tax_rate=0.07, discount=10)\n",
    "print(item.final_price())  # Outputs: 96.30 (100 - 10 = 90, then 90 * 1.07 = 96.30)"
   ]
  },
  {
   "cell_type": "code",
   "execution_count": 8,
   "id": "f68ed0ce",
   "metadata": {},
   "outputs": [
    {
     "name": "stdout",
     "output_type": "stream",
     "text": [
      "Final price is: 90.95\n",
      "Price calculated: 1 times\n"
     ]
    }
   ],
   "source": [
    "class ProductPricing:\n",
    "    def __init__(self, base_price, tax_rate=0.05, discount=0):\n",
    "        self.base_price = base_price\n",
    "        self.tax_rate = tax_rate\n",
    "        self.discount = discount\n",
    "        self.loyalty_discount = 0\n",
    "        self.times_calculated = 0\n",
    "\n",
    "    def add_loyalty_discount(self, amount):\n",
    "        self.loyalty_discount += amount\n",
    "\n",
    "    def final_price(self):\n",
    "        total_discount = self.discount + self.loyalty_discount\n",
    "        price_after_discount = self.base_price - total_discount\n",
    "        price_with_tax = price_after_discount * (1 + self.tax_rate)\n",
    "        self.times_calculated += 1\n",
    "        return price_with_tax\n",
    "\n",
    "\n",
    "\n",
    "# Creating a product with a base price of $100, tax rate 7%, and $10 discount\n",
    "item = ProductPricing(base_price=100, tax_rate=0.07, discount=10)\n",
    "item.add_loyalty_discount(5)  # Adds $5 more discount\n",
    "final = item.final_price()\n",
    "print(\"Final price is:\", final)\n",
    "print(\"Price calculated:\", item.times_calculated, \"times\")\n",
    "\n"
   ]
  },
  {
   "cell_type": "markdown",
   "id": "7242c969",
   "metadata": {},
   "source": [
    "## Exercise classes creation"
   ]
  },
  {
   "cell_type": "code",
   "execution_count": 22,
   "id": "c3f66ab5",
   "metadata": {},
   "outputs": [
    {
     "name": "stdout",
     "output_type": "stream",
     "text": [
      "\"La storia\" by Gigi, 25 pages\n"
     ]
    }
   ],
   "source": [
    "## BOOK CLASS\n",
    "\n",
    "class Book:\n",
    "    def __init__(self, title, author,number_of_pages):\n",
    "        self.title = title\n",
    "        self.author = author\n",
    "        self.number_of_pages = number_of_pages\n",
    "\n",
    "    def description(self):\n",
    "        return f'\"{self.title}\" by {self.author}, {self.number_of_pages} pages'\n",
    "\n",
    "\n",
    "# Creating an object (outside the class, using quotes for strings)    \n",
    "item = Book(title= 'La storia', author= 'Gigi', number_of_pages = 25)\n",
    "print(item.description())\n",
    "    "
   ]
  },
  {
   "cell_type": "code",
   "execution_count": 15,
   "id": "b27c6f07",
   "metadata": {},
   "outputs": [
    {
     "name": "stdout",
     "output_type": "stream",
     "text": [
      "La storia\n",
      "Gigi\n",
      "25\n"
     ]
    }
   ],
   "source": [
    "print(item.title)\n",
    "print(item.author)\n",
    "print(item.number_of_pages)"
   ]
  },
  {
   "cell_type": "code",
   "execution_count": 1,
   "id": "4d0c5289",
   "metadata": {},
   "outputs": [
    {
     "name": "stdout",
     "output_type": "stream",
     "text": [
      "val\n"
     ]
    }
   ],
   "source": [
    "users = ['val', 'bob', 'mia', 'ron', 'ned']\n",
    "first_user = users[0]\n",
    "print(first_user)"
   ]
  },
  {
   "cell_type": "code",
   "execution_count": 4,
   "id": "6e00a997",
   "metadata": {},
   "outputs": [
    {
     "name": "stdout",
     "output_type": "stream",
     "text": [
      "0\n",
      "1\n",
      "2\n",
      "3\n",
      "4\n",
      "5\n",
      "6\n",
      "7\n",
      "8\n",
      "9\n"
     ]
    }
   ],
   "source": [
    "for number in range(10):\n",
    "    print(number)"
   ]
  },
  {
   "cell_type": "code",
   "execution_count": 1,
   "id": "866e955c",
   "metadata": {},
   "outputs": [
    {
     "name": "stdout",
     "output_type": "stream",
     "text": [
      "['kai', 'abe', 'ada']\n"
     ]
    }
   ],
   "source": [
    "## slicing a list\n",
    "\n",
    "finishers = ['kai', 'abe', 'ada', 'gus', 'zoe']\n",
    "first_three = finishers[:3]\n",
    "print(first_three)"
   ]
  },
  {
   "cell_type": "code",
   "execution_count": 1,
   "id": "438a0bfd",
   "metadata": {},
   "outputs": [
    {
     "name": "stdout",
     "output_type": "stream",
     "text": [
      "[1, 4, 9, 16, 25, 36, 49, 64, 81, 100]\n"
     ]
    }
   ],
   "source": [
    "squares = []\n",
    "for x in range(1, 11):\n",
    "    square = x**2\n",
    "    squares.append(square)\n",
    "print(squares)\n"
   ]
  },
  {
   "cell_type": "code",
   "execution_count": 3,
   "id": "1549ea1f",
   "metadata": {},
   "outputs": [
    {
     "name": "stdout",
     "output_type": "stream",
     "text": [
      "Hello willie!\n",
      "Hello hoots!\n",
      "Hello peso!\n",
      "Hello goblin!\n",
      "I love these dogs\n"
     ]
    }
   ],
   "source": [
    "dogs = []\n",
    "dogs.append('willie')\n",
    "dogs.append('hoots')\n",
    "dogs.append('peso')\n",
    "dogs.append('goblin')\n",
    "\n",
    "for dog in dogs:\n",
    "    print(\"Hello \" + dog + \"!\")\n",
    "print(\"I love these dogs\")"
   ]
  },
  {
   "cell_type": "code",
   "execution_count": 4,
   "id": "ea433ba0",
   "metadata": {},
   "outputs": [
    {
     "name": "stdout",
     "output_type": "stream",
     "text": [
      "\\These were my first two dogs:\n",
      "willie\n",
      "hoots\n",
      "['hoots', 'goblin']\n"
     ]
    }
   ],
   "source": [
    "print(\"\\These were my first two dogs:\")\n",
    "old_dogs = dogs[:2]\n",
    "for old_dog in old_dogs:\n",
    "    print(old_dog)\n",
    "\n",
    "\n",
    "del dogs[0]\n",
    "dogs.remove('peso')\n",
    "print(dogs)"
   ]
  },
  {
   "cell_type": "markdown",
   "id": "e2a5523c",
   "metadata": {},
   "source": [
    "## Dictionaries"
   ]
  },
  {
   "cell_type": "code",
   "execution_count": null,
   "id": "5fa1ae16",
   "metadata": {},
   "outputs": [
    {
     "data": {
      "text/plain": [
       "{'color': 'green'}"
      ]
     },
     "execution_count": 6,
     "metadata": {},
     "output_type": "execute_result"
    }
   ],
   "source": [
    "## Adding new key value pairs\n",
    "\n",
    "alien_0 = {}    ## dictionary is in curly brackets\n",
    "alien_0['color'] = 'green'\n",
    "alien_0 "
   ]
  },
  {
   "cell_type": "code",
   "execution_count": 7,
   "id": "85214688",
   "metadata": {},
   "outputs": [
    {
     "data": {
      "text/plain": [
       "{'color': 'green', 'points': 5}"
      ]
     },
     "execution_count": 7,
     "metadata": {},
     "output_type": "execute_result"
    }
   ],
   "source": [
    "alien_0['points'] = 5\n",
    "alien_0"
   ]
  },
  {
   "cell_type": "code",
   "execution_count": 1,
   "id": "e82f6b91",
   "metadata": {},
   "outputs": [],
   "source": [
    "users = []"
   ]
  },
  {
   "cell_type": "code",
   "execution_count": 4,
   "id": "39e5b85a",
   "metadata": {},
   "outputs": [
    {
     "name": "stdout",
     "output_type": "stream",
     "text": [
      "[{'last': 'fermi', 'first': 'enrico', 'username': 'efermi'}]\n"
     ]
    }
   ],
   "source": [
    "new_users = {\n",
    "    'last': 'fermi',\n",
    "    'first': 'enrico',\n",
    "    'username': 'efermi',\n",
    "}\n",
    "users.append(new_users)\n",
    "\n",
    "print(users)"
   ]
  },
  {
   "cell_type": "code",
   "execution_count": 9,
   "id": "668855ec",
   "metadata": {},
   "outputs": [
    {
     "name": "stdout",
     "output_type": "stream",
     "text": [
      "[{'last': 'fermi', 'first': 'enrico', 'username': 'efermi'}]\n"
     ]
    }
   ],
   "source": [
    "# Initialize an empty list to store user dictionaries\n",
    "users = []\n",
    "\n",
    "# Create a dictionary for a new user with 3 key-value pairs\n",
    "new_users = {\n",
    "    'last': 'fermi',    # Last name of the user\n",
    "    'first': 'enrico',  # First name of the user\n",
    "    'username': 'efermi',  # Username created from first initial and last name\n",
    "}\n",
    "\n",
    "# Add the new user dictionary to the users list using append()\n",
    "users.append(new_users)\n",
    "\n",
    "# Print the entire users list, which now contains one user dictionary\n",
    "print(users)"
   ]
  },
  {
   "cell_type": "code",
   "execution_count": 10,
   "id": "3ab06250",
   "metadata": {},
   "outputs": [
    {
     "name": "stdout",
     "output_type": "stream",
     "text": [
      "[{'last': 'fermi', 'first': 'enrico', 'username': 'efermi'}, {'last': 'curie', 'first': 'marie', 'username': 'mcurie'}]\n",
      "last: fermi\n",
      "first: enrico\n",
      "username: efermi\n",
      "\n",
      "\n",
      "last: curie\n",
      "first: marie\n",
      "username: mcurie\n",
      "\n",
      "\n"
     ]
    }
   ],
   "source": [
    "# Create a dictionary for another user with the same structure\n",
    "new_user = {\n",
    "    'last': 'curie',     # Last name of the second user\n",
    "    'first': 'marie',    # First name of the second user\n",
    "    'username': 'mcurie' # Username following the same pattern (first initial + last name)\n",
    "}\n",
    "# Add the new user dictionary to the same users list\n",
    "users.append(new_user)\n",
    "\n",
    "# Print updated users list which now contains two user dictionaries\n",
    "print(users)\n",
    "\n",
    "# Nested loop to print each user's information in a formatted way:\n",
    "for user_dict in users:           # Outer loop: iterate through each user dictionary in the list\n",
    "    for k, v in user_dict.items(): # Inner loop: iterate through key-value pairs in each dictionary\n",
    "        print(k + \": \" + v)        # Print each key-value pair formatted as \"key: value\"\n",
    "    print(\"\\n\")                    # Print blank line between users for better readability"
   ]
  },
  {
   "cell_type": "code",
   "execution_count": 5,
   "id": "262e13ef",
   "metadata": {},
   "outputs": [
    {
     "name": "stdout",
     "output_type": "stream",
     "text": [
      "[{'last': 'fermi', 'first': 'enrico', 'username': 'efermi'}, {'last': 'curie', 'first': 'marie', 'username': 'mcurie'}]\n"
     ]
    }
   ],
   "source": [
    "new_user = {\n",
    "    'last': 'curie',\n",
    "    'first': 'marie',\n",
    "    'username': 'mcurie',\n",
    "}\n",
    "users.append(new_user)\n",
    "\n",
    "print(users)"
   ]
  },
  {
   "cell_type": "code",
   "execution_count": 6,
   "id": "f622b6eb",
   "metadata": {},
   "outputs": [
    {
     "name": "stdout",
     "output_type": "stream",
     "text": [
      "last: fermi\n",
      "first: enrico\n",
      "username: efermi\n",
      "\n",
      "\n",
      "last: curie\n",
      "first: marie\n",
      "username: mcurie\n",
      "\n",
      "\n"
     ]
    }
   ],
   "source": [
    "for user_dict in users:\n",
    "    for k,v in user_dict.items():\n",
    "        print(k + \": \" + v)\n",
    "    print(\"\\n\")"
   ]
  },
  {
   "cell_type": "markdown",
   "id": "bd45aa66",
   "metadata": {},
   "source": [
    "## If Statements and While Loops"
   ]
  },
  {
   "cell_type": "code",
   "execution_count": 13,
   "id": "f402311d",
   "metadata": {},
   "outputs": [
    {
     "name": "stdout",
     "output_type": "stream",
     "text": [
      "Your cost is $5.\n"
     ]
    }
   ],
   "source": [
    "age = 12\n",
    "\n",
    "if age < 4:\n",
    "    price = 0\n",
    "elif age < 18:\n",
    "    price = 5\n",
    "else:\n",
    "     price = 10\n",
    "\n",
    "print(\"Your cost is $\" + str(price) + \".\")"
   ]
  },
  {
   "cell_type": "code",
   "execution_count": 3,
   "id": "5cb36b2c",
   "metadata": {},
   "outputs": [
    {
     "name": "stdout",
     "output_type": "stream",
     "text": [
      "Player: Davide\n",
      "Player: Alessio\n",
      "Player: Serena\n"
     ]
    }
   ],
   "source": [
    "players = [\"davide\", \"alessio\", \"serena\"]\n",
    "\n",
    "\n",
    "if players:\n",
    "    for player in players:\n",
    "        print(\"Player: \" + player.title())   ## Title case means that the first letter of each word is capitalized, and the rest of the letters are lowercase. \n",
    "else:\n",
    "    print(\"We have no players yet!\")"
   ]
  },
  {
   "cell_type": "code",
   "execution_count": 4,
   "id": "f104948f",
   "metadata": {},
   "outputs": [
    {
     "name": "stdout",
     "output_type": "stream",
     "text": [
      "Hello, Giorgio.\n"
     ]
    }
   ],
   "source": [
    "name = input(\"What's your name? \")\n",
    "print(\"Hello, \" + name + \".\") "
   ]
  },
  {
   "cell_type": "code",
   "execution_count": 8,
   "id": "a001f8b7",
   "metadata": {},
   "outputs": [
    {
     "name": "stdout",
     "output_type": "stream",
     "text": [
      "\n",
      "You can vote!\n"
     ]
    }
   ],
   "source": [
    "age = input(\"How old are you? \")\n",
    "age = int(age)\n",
    "if age >= 18:\n",
    "    print(\"\\nYou can vote!\")\n",
    "else:\n",
    "    print(\"\\nYou can't vote yet.\") "
   ]
  },
  {
   "cell_type": "code",
   "execution_count": 9,
   "id": "47fb3a35",
   "metadata": {},
   "outputs": [
    {
     "name": "stdout",
     "output_type": "stream",
     "text": [
      "davide\n",
      "serena\n",
      "francesca\n"
     ]
    }
   ],
   "source": [
    "prompt = \"\\nTell me something, and I'll \"\n",
    "prompt += \"repeat it back to you.\"\n",
    "prompt += \"\\nEnter 'quit' to end the program. \"\n",
    "message = \"\"\n",
    "while message != 'quit':\n",
    "    message = input(prompt)\n",
    "    if message != 'quit':\n",
    "        print(message) "
   ]
  },
  {
   "cell_type": "code",
   "execution_count": 10,
   "id": "46df9d90",
   "metadata": {},
   "outputs": [
    {
     "name": "stdout",
     "output_type": "stream",
     "text": [
      "serena\n",
      "veronica\n"
     ]
    }
   ],
   "source": [
    "prompt = \"\\nTell me something, and I'll \"\n",
    "prompt += \"repeat it back to you.\"\n",
    "prompt += \"\\nEnter 'quit' to end the program. \"\n",
    "active = True\n",
    "while active:\n",
    "    message = input(prompt)\n",
    "    if message == 'quit':\n",
    "        active = False\n",
    "    else:\n",
    "        print(message) "
   ]
  },
  {
   "cell_type": "code",
   "execution_count": 11,
   "id": "d25ab80b",
   "metadata": {},
   "outputs": [
    {
     "name": "stdout",
     "output_type": "stream",
     "text": [
      "eve is banned!\n",
      "eve is banned!\n",
      "fred is banned!\n",
      "\n",
      "Your team:\n",
      "davide\n",
      "davide\n"
     ]
    }
   ],
   "source": [
    "banned_users = ['eve', 'fred', 'gary', 'helen']\n",
    "prompt = \"\\nAdd a player to your team.\"\n",
    "prompt += \"\\nEnter 'quit' when you're done. \"\n",
    "players = []\n",
    "while True:\n",
    "    player = input(prompt)\n",
    "    if player == 'quit':\n",
    "        break\n",
    "    elif player in banned_users:\n",
    "        print(player + \" is banned!\")\n",
    "        continue\n",
    "    else:\n",
    "        players.append(player)\n",
    "print(\"\\nYour team:\")\n",
    "for player in players:\n",
    "    print(player)\n"
   ]
  },
  {
   "cell_type": "code",
   "execution_count": 15,
   "id": "12ed2829",
   "metadata": {},
   "outputs": [
    {
     "name": "stdout",
     "output_type": "stream",
     "text": [
      "['dog', 'cat', 'dog', 'fish', 'cat', ' rabbit', 'cat']\n",
      "['dog', 'dog', 'fish', 'cat', ' rabbit', 'cat']\n"
     ]
    }
   ],
   "source": [
    "pets = ['dog', 'cat', 'dog', 'fish', 'cat', ' rabbit', 'cat']\n",
    "\n",
    "print(pets)\n",
    "\n",
    "pets.remove('cat')\n",
    "print(pets)"
   ]
  },
  {
   "cell_type": "code",
   "execution_count": null,
   "id": "5303701c",
   "metadata": {},
   "outputs": [],
   "source": []
  },
  {
   "cell_type": "markdown",
   "id": "a7232812",
   "metadata": {},
   "source": [
    "## Functions \n"
   ]
  },
  {
   "cell_type": "code",
   "execution_count": 18,
   "id": "b71b979f",
   "metadata": {},
   "outputs": [
    {
     "name": "stdout",
     "output_type": "stream",
     "text": [
      "Hello, jesse!\n"
     ]
    }
   ],
   "source": [
    "def greet_user(username):\n",
    "    \"Display a simple greating.\"\n",
    "    print(\"Hello, \" + username + \"!\")\n",
    "\n",
    "greet_user('jesse')\n",
    "\n"
   ]
  },
  {
   "cell_type": "code",
   "execution_count": 20,
   "id": "f9b14f59",
   "metadata": {},
   "outputs": [],
   "source": [
    "def describe_pet(name, animal='dog'):\n",
    "    \"\"\"Display information about a pet.\"\"\"\n",
    "    print(\"\\nI have a \" + animal + \".\")\n",
    "    print(\"Its name is \" + name + \".\")\n",
    "\n",
    "\n",
    "\n"
   ]
  },
  {
   "cell_type": "code",
   "execution_count": 21,
   "id": "bf0bc2bb",
   "metadata": {},
   "outputs": [
    {
     "name": "stdout",
     "output_type": "stream",
     "text": [
      "\n",
      "I have a hamster.\n",
      "Its name is harry.\n"
     ]
    }
   ],
   "source": [
    "describe_pet('harry', 'hamster')\n"
   ]
  },
  {
   "cell_type": "code",
   "execution_count": 22,
   "id": "19964c4f",
   "metadata": {},
   "outputs": [
    {
     "name": "stdout",
     "output_type": "stream",
     "text": [
      "\n",
      "I have a dog.\n",
      "Its name is willie.\n"
     ]
    }
   ],
   "source": [
    "describe_pet('willie')"
   ]
  },
  {
   "cell_type": "code",
   "execution_count": 2,
   "id": "b794eaa4",
   "metadata": {},
   "outputs": [
    {
     "name": "stdout",
     "output_type": "stream",
     "text": [
      "Hello, hannah!\n",
      "Hello, ty!\n",
      "Hello, margot!\n"
     ]
    }
   ],
   "source": [
    "## passing a list as an argument\n",
    "def greet_users(names):\n",
    "    \"Print a simple greeting to everyone.\"\n",
    "    for name in names:\n",
    "        msg = \"Hello, \" + name + \"!\"\n",
    "        print(msg)\n",
    "\n",
    "usernames = ['hannah', 'ty', 'margot']\n",
    "greet_users(usernames)"
   ]
  },
  {
   "cell_type": "code",
   "execution_count": 6,
   "id": "529234e0",
   "metadata": {},
   "outputs": [],
   "source": [
    "## allow a function to modify a list\n",
    "\n",
    "def print_models(unprinted, printed):\n",
    "    \"\"\"3d print a set of models.\"\"\"\n",
    "    while unprinted:\n",
    "        current_model = unprinted.pop()    ## .pop() removes the last item from the list AND gives it back to us, \n",
    "                                           ## that removed item gets stored in the variable current_model.\n",
    "        print(\"Printing \" + current_model)\n",
    "        printed.append(current_model)      ## So printed.append(current_model) is the line that takes whatever item we just \n",
    "                                           ## removed from the unprinted list (and stored in current_model) and adds it to the end\n",
    "                                           ## of the printed list."
   ]
  },
  {
   "cell_type": "code",
   "execution_count": 8,
   "id": "6d3889bb",
   "metadata": {},
   "outputs": [
    {
     "name": "stdout",
     "output_type": "stream",
     "text": [
      "['phone case', 'pendant', 'ring']\n",
      "[]\n"
     ]
    }
   ],
   "source": [
    "\n",
    "## Store some unprinted designs,\n",
    "## and print each of them.\n",
    "\n",
    "unprinted = ['phone case', 'pendant', 'ring']\n",
    "printed = []\n",
    "\n",
    "print(unprinted)\n",
    "print(printed)"
   ]
  },
  {
   "cell_type": "code",
   "execution_count": 9,
   "id": "017a1326",
   "metadata": {},
   "outputs": [
    {
     "name": "stdout",
     "output_type": "stream",
     "text": [
      "Printing ring\n",
      "Printing pendant\n",
      "Printing phone case\n"
     ]
    }
   ],
   "source": [
    "print_models(unprinted, printed)"
   ]
  },
  {
   "cell_type": "code",
   "execution_count": 10,
   "id": "80eaa2c5",
   "metadata": {},
   "outputs": [
    {
     "name": "stdout",
     "output_type": "stream",
     "text": [
      "\n",
      "Unprinted: []\n",
      "Printed: ['ring', 'pendant', 'phone case']\n"
     ]
    }
   ],
   "source": [
    "print(\"\\nUnprinted:\", unprinted)\n",
    "print(\"Printed:\", printed)"
   ]
  },
  {
   "cell_type": "code",
   "execution_count": null,
   "id": "446459f6",
   "metadata": {},
   "outputs": [],
   "source": [
    "## allow a function to modify a list\n",
    "\n",
    "def print_models(unprinted, printed):\n",
    "    \"\"\"\n",
    "    Simulate printing each design, until none are left.\n",
    "    Moves each model from the unprinted list to the printed list.\n",
    "\n",
    "    Args:\n",
    "        unprinted (list): List of models that need to be printed.\n",
    "        printed (list): List that will store completed models.\n",
    "    \"\"\"\n",
    "    # Continue looping as long as there are models left to print\n",
    "    while unprinted:\n",
    "        # Remove the last model from the unprinted list\n",
    "        current_model = unprinted.pop()\n",
    "        # Simulate printing the current model\n",
    "        print(\"Printing \" + current_model)\n",
    "        # Add the printed model to the printed list\n",
    "        printed.append(current_model)\n",
    "\n",
    "\n",
    "## Store some unprinted designs,\n",
    "## and print each of them.\n",
    "\n",
    "unprinted = ['phone case', 'pendant', 'ring']  # List of models to print\n",
    "printed = []                                   # Empty list to hold printed models\n",
    "print_models(unprinted, printed)               # Call the function to process the lists\n",
    "\n",
    "# After the function, unprinted will be empty and printed will have all models\n",
    "print(\"\\nUnprinted:\", unprinted)\n",
    "print(\"Printed:\", printed)"
   ]
  },
  {
   "cell_type": "code",
   "execution_count": 5,
   "id": "e88621a7",
   "metadata": {},
   "outputs": [
    {
     "name": "stdout",
     "output_type": "stream",
     "text": [
      "Printing ring\n",
      "Printing pendant\n",
      "Printing phone case\n",
      "\n",
      "Original: ['phone case', 'pendant', 'ring']\n",
      "Printed: ['ring', 'pendant', 'phone case']\n"
     ]
    }
   ],
   "source": [
    "\n",
    "\n",
    "def print_models(unprinted, printed):\n",
    "    \"\"\"3d print a set of models.\"\"\"\n",
    "    while unprinted:\n",
    "        current_model = unprinted.pop()\n",
    "        print(\"Printing \" + current_model)\n",
    "        printed.append(current_model)\n",
    "# Store some unprinted designs,\n",
    "#  and print each of them.\n",
    "original = ['phone case', 'pendant', 'ring']\n",
    "printed = []\n",
    "\n",
    "print_models(original[:], printed)\n",
    "print(\"\\nOriginal:\", original)\n",
    "print(\"Printed:\", printed)\n",
    "\n",
    "\n",
    "\n",
    "\n"
   ]
  },
  {
   "cell_type": "code",
   "execution_count": null,
   "id": "d7b286df",
   "metadata": {},
   "outputs": [],
   "source": []
  }
 ],
 "metadata": {
  "kernelspec": {
   "display_name": "Python 3",
   "language": "python",
   "name": "python3"
  },
  "language_info": {
   "codemirror_mode": {
    "name": "ipython",
    "version": 3
   },
   "file_extension": ".py",
   "mimetype": "text/x-python",
   "name": "python",
   "nbconvert_exporter": "python",
   "pygments_lexer": "ipython3",
   "version": "3.11.3"
  }
 },
 "nbformat": 4,
 "nbformat_minor": 5
}
