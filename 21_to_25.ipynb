{
 "cells": [
  {
   "cell_type": "code",
   "execution_count": null,
   "id": "c20d7590",
   "metadata": {},
   "outputs": [],
   "source": [
    "## Exercise 21: List Creation, Insertion, and Deletion\n",
    "## Objective: Practice creating and manipulating a list by adding, inserting, and removing elements.\n",
    "## - Create an empty list called `users`.\n",
    "## - Add three names to the list using `append()`.\n",
    "## - Insert a new name at the beginning of the list and another at position 3.\n",
    "## - Remove one user by value and one by index.\n",
    "## - Print the final state of the list after each operation.\n",
    "\n",
    "# Write your code below:"
   ]
  },
  {
   "cell_type": "code",
   "execution_count": 28,
   "id": "cf4ccd31",
   "metadata": {},
   "outputs": [
    {
     "name": "stdout",
     "output_type": "stream",
     "text": [
      "[]\n",
      "['davide', 'sara', 'francesca']\n",
      "['veronica', 'davide', 'sara', 'davide', 'francesca']\n",
      "['davide', 'sara', 'davide']\n"
     ]
    }
   ],
   "source": [
    "users = []\n",
    "print(users)\n",
    "\n",
    "users.append(\"davide\")\n",
    "users.append(\"sara\")\n",
    "users.append(\"francesca\")\n",
    "\n",
    "print(users)\n",
    "\n",
    "users.insert(0,\"veronica\")\n",
    "users.insert(3,\"davide\")\n",
    "\n",
    "print(users)\n",
    "\n",
    "users.remove(\"francesca\")\n",
    "del users[0]\n",
    "\n",
    "print(users)"
   ]
  },
  {
   "cell_type": "code",
   "execution_count": null,
   "id": "a7f6c933",
   "metadata": {},
   "outputs": [],
   "source": [
    "## Exercise 22: Sorting and Reversing a List\n",
    "## Objective: Use sorting and reversing methods on a list.\n",
    "## - Start with a list of at least five usernames.\n",
    "## - Sort the list alphabetically (permanently).\n",
    "## - Sort the list in reverse alphabetical order (permanently).\n",
    "## - Print a temporarily sorted version of the list in both normal and reverse order, leaving the original list unchanged.\n",
    "## - Reverse the list’s order.\n",
    "## - Print the list after each operation.\n",
    "\n",
    "# Write your code below:\n"
   ]
  },
  {
   "cell_type": "code",
   "execution_count": null,
   "id": "378d4ba6",
   "metadata": {},
   "outputs": [],
   "source": [
    "## Exercise 23: List Indexing, Slicing, and Modification\n",
    "## Objective: Work with list indexing, negative indices, slicing, and element modification.\n",
    "## - Create a list with five user names.\n",
    "## - Access and print the first, second, and last elements using both positive and negative indices.\n",
    "## - Change the first and second-to-last elements to different names.\n",
    "## - Print the first three elements, the middle three elements, and the last two elements using slicing.\n",
    "\n",
    "# Write your code below:\n"
   ]
  },
  {
   "cell_type": "code",
   "execution_count": null,
   "id": "2b995a67",
   "metadata": {},
   "outputs": [],
   "source": [
    "## Exercise 24: Copying Lists and Using Loops\n",
    "## Objective: Practice copying lists and looping through them.\n",
    "## - Create a list of five animal names.\n",
    "## - Make a copy of the list using slicing.\n",
    "## - Add two new animals to the original list.\n",
    "## - Use a loop to print all animals in the original list with a personalized message.\n",
    "## - Use another loop to print all animals in the copied list with a different message.\n",
    "## - Print both lists to show they are now different.\n",
    "\n",
    "# Write your code below:\n"
   ]
  },
  {
   "cell_type": "code",
   "execution_count": null,
   "id": "7aa7e6c2",
   "metadata": {},
   "outputs": [],
   "source": [
    "## Exercise 25: Nesting Dictionaries and Lists\n",
    "## Objective: Practice nesting dictionaries within lists and lists within dictionaries.\n",
    "## - Create a list called `users`. Each user should be represented by a dictionary with the keys: `'first'`, `'last'`, and `'username'`.\n",
    "## - Add at least two users to the list.\n",
    "## - Create a dictionary called `fav_languages`, where each key is a user’s username and the value is a list of their favorite programming languages.\n",
    "## - Loop through the `users` list, print each user’s full name, and then print their favorite languages from the `fav_languages` dictionary.\n",
    "\n",
    "# Write your code below:\n"
   ]
  },
  {
   "cell_type": "code",
   "execution_count": null,
   "id": "2b76f9fb",
   "metadata": {},
   "outputs": [],
   "source": []
  },
  {
   "cell_type": "code",
   "execution_count": null,
   "id": "816f4421",
   "metadata": {},
   "outputs": [],
   "source": []
  }
 ],
 "metadata": {
  "kernelspec": {
   "display_name": "Python 3",
   "language": "python",
   "name": "python3"
  },
  "language_info": {
   "codemirror_mode": {
    "name": "ipython",
    "version": 3
   },
   "file_extension": ".py",
   "mimetype": "text/x-python",
   "name": "python",
   "nbconvert_exporter": "python",
   "pygments_lexer": "ipython3",
   "version": "3.11.3"
  }
 },
 "nbformat": 4,
 "nbformat_minor": 5
}
