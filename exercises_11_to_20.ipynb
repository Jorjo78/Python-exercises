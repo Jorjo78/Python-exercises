{
 "cells": [
  {
   "cell_type": "code",
   "execution_count": null,
   "id": "32892d91",
   "metadata": {},
   "outputs": [],
   "source": [
    "## 11. Personalized Greeting Generator\n",
    "## Objective:\n",
    "## Write a program that asks the user for their first and last name, stores each in a variable, combines them into a full name \n",
    "## with proper capitalization, and prints a personalized greeting."
   ]
  },
  {
   "cell_type": "code",
   "execution_count": 6,
   "id": "a1cd5996",
   "metadata": {},
   "outputs": [
    {
     "name": "stdout",
     "output_type": "stream",
     "text": [
      "Hello, Ada Lovelace! Welcome!\n"
     ]
    }
   ],
   "source": [
    "prompt_1 = input(\"Enter your first name:\")\n",
    "prompt_2 = input(\"Enter your last name:\")\n",
    "full_name = prompt_1.title() + \" \" + prompt_2.title()\n",
    "print(\"Hello\" + \",\" + \" \" + full_name + \"!\" +  \" \" + \"Welcome\" + \"!\")"
   ]
  },
  {
   "cell_type": "code",
   "execution_count": null,
   "id": "883f345f",
   "metadata": {},
   "outputs": [],
   "source": [
    "## 2. List Operations and Statistics\n",
    "## Objective:\n",
    "## Prompt the user to enter five numbers (one at a time), store them in a list, \n",
    "## then calculate and print the minimum, maximum, and average of the list."
   ]
  },
  {
   "cell_type": "code",
   "execution_count": 12,
   "id": "38cf3a86",
   "metadata": {},
   "outputs": [
    {
     "name": "stdout",
     "output_type": "stream",
     "text": [
      "1\n",
      "5\n",
      "3.0\n"
     ]
    }
   ],
   "source": [
    "prompt_1 = input(\"Enter five numbers one at a time\")\n",
    "prompt_2 = input(\"Enter five numbers one at a time\")\n",
    "prompt_3 = input(\"Enter five numbers one at a time\")\n",
    "prompt_4 = input(\"Enter five numbers one at a time\")\n",
    "prompt_5 = input(\"Enter five numbers one at a time\")\n",
    "\n",
    "Numbers = [int(prompt_1), int(prompt_2), int(prompt_3), int(prompt_4), int(prompt_5)]\n",
    "print(min(Numbers))\n",
    "print(max(Numbers))\n",
    "print(sum(Numbers)/len(Numbers))\n"
   ]
  },
  {
   "cell_type": "code",
   "execution_count": null,
   "id": "caf98883",
   "metadata": {},
   "outputs": [],
   "source": [
    "## 3. String Manipulation with Lists\n",
    "## Objective:\n",
    "## Create a list of words. Loop through the list and, for each word, print it in uppercase if its length is even and in lowercase if its length is odd."
   ]
  },
  {
   "cell_type": "code",
   "execution_count": null,
   "id": "699c49ef",
   "metadata": {},
   "outputs": [
    {
     "name": "stdout",
     "output_type": "stream",
     "text": [
      "python\n",
      "ROCKS\n",
      "ai\n",
      "FUN\n"
     ]
    }
   ],
   "source": [
    "words = ['Python', 'rocks', 'AI', 'fun']\n",
    "\n",
    "for word in words:\n",
    "    if len(word) % 2 == 0\n",
    "        print(word.upper())\n",
    "    else:\n",
    "        print(word.lower())\n",
    "\n",
    "\n",
    "## In Python, any nonzero value is considered “True” in an if statement. So, when the length is odd,\n",
    "## len(word) % 2 is 1 (which is True), so it goes into the if block."
   ]
  },
  {
   "cell_type": "code",
   "execution_count": null,
   "id": "4ddee59f",
   "metadata": {},
   "outputs": [],
   "source": [
    "## 4. Unique Elements from User Input\n",
    "## Objective:\n",
    "## Ask the user to enter any number of items (one per line, stop with \"done\").\n",
    "## Store each item in a list, then print only the unique items, sorted alphabetically."
   ]
  },
  {
   "cell_type": "code",
   "execution_count": null,
   "id": "3b0aaebc",
   "metadata": {},
   "outputs": [
    {
     "name": "stdout",
     "output_type": "stream",
     "text": [
      "['apple', 'banana', 'orange']\n"
     ]
    }
   ],
   "source": [
    "\n",
    "fruits = []\n",
    "while True:\n",
    "    fruit = input(\"Enter your fruit!\")\n",
    "    \n",
    "    if fruit == \"done\":\n",
    "        break\n",
    "    else:\n",
    "        fruits.append(fruit)\n",
    "unique_fruits = list(set(fruits))       ## set doesn't have sort method\n",
    "unique_fruits.sort()\n",
    "print(unique_fruits)\n"
   ]
  },
  {
   "cell_type": "code",
   "execution_count": null,
   "id": "ad73345c",
   "metadata": {},
   "outputs": [],
   "source": [
    "## 5. Dictionary Aggregator\n",
    "## Objective:\n",
    "## Given a list of dictionaries representing people ({'name': 'Alice', 'age': 23}), write a program\n",
    "## that finds the average age."
   ]
  },
  {
   "cell_type": "code",
   "execution_count": 43,
   "id": "5fd85254",
   "metadata": {},
   "outputs": [],
   "source": [
    "people = [\n",
    "    {'name': 'Alice', 'age': 23},\n",
    "    {'name': 'Bob', 'age': 27},\n",
    "    {'name': 'Cara', 'age': 31}\n",
    "]"
   ]
  },
  {
   "cell_type": "code",
   "execution_count": null,
   "id": "714ea37d",
   "metadata": {},
   "outputs": [
    {
     "name": "stdout",
     "output_type": "stream",
     "text": [
      "Average age:  27.0\n"
     ]
    }
   ],
   "source": [
    "total_age = 0\n",
    "\n",
    "for person in people:\n",
    "    total_age += person['age']\n",
    "age = total_age / len(people)\n",
    "print(\"Average\"+\" \"+\"age\"+\":\",\" \"+ str(age))     ### second solution: print(\"Average age:\", age)"
   ]
  },
  {
   "cell_type": "code",
   "execution_count": null,
   "id": "c242f0b5",
   "metadata": {},
   "outputs": [],
   "source": [
    "## 6. Conditional List Filtering\n",
    "## Objective:\n",
    "## Given a list of integers, use a loop and a conditional to create a new list with only the even numbers,\n",
    "## then print both lists.\n"
   ]
  },
  {
   "cell_type": "code",
   "execution_count": 50,
   "id": "c8757eb0",
   "metadata": {},
   "outputs": [
    {
     "name": "stdout",
     "output_type": "stream",
     "text": [
      "[6, 8, 10]\n",
      "[3, 6, 7, 8, 10, 13]\n"
     ]
    }
   ],
   "source": [
    "nums = [3, 6, 7, 8, 10, 13]\n",
    "\n",
    "even_num = []\n",
    "for num in nums:\n",
    "    if  num % 2 == 0:\n",
    "        even_num.append(num)\n",
    "\n",
    "print(even_num)\n",
    "print(nums)    \n"
   ]
  },
  {
   "cell_type": "code",
   "execution_count": null,
   "id": "148b380b",
   "metadata": {},
   "outputs": [],
   "source": [
    "## 7. Dynamic List Slicing\n",
    "## Objective:\n",
    "## Write a program that creates a list of 10 random integers (from 1 to 100), then prints:\n",
    "\n",
    "## The first three numbers\n",
    "## The last three numbers\n",
    "## The numbers in the middle (from index 3 up to, but not including, index 7)"
   ]
  },
  {
   "cell_type": "code",
   "execution_count": 75,
   "id": "d8e4ff99",
   "metadata": {},
   "outputs": [
    {
     "name": "stdout",
     "output_type": "stream",
     "text": [
      "[61, 33, 72, 92, 53, 11, 46, 15, 83, 10]\n",
      "[61, 33, 72]\n",
      "[15, 83, 10]\n",
      "[92, 53, 11, 46]\n"
     ]
    }
   ],
   "source": [
    "import random\n",
    "numbers = []\n",
    "\n",
    "for num in range(1,100):\n",
    "    numbers.append(num)\n",
    "\n",
    "Full_list = random.sample(numbers, 10)     \n",
    "First_three = Full_list[0:3]\n",
    "Last_three = Full_list[7:10]\n",
    "Middle = Full_list[3:7]\n",
    "\n",
    "print(Full_list)\n",
    "print(First_three)\n",
    "print(Last_three)\n",
    "print(Middle)"
   ]
  },
  {
   "cell_type": "code",
   "execution_count": null,
   "id": "827b555c",
   "metadata": {},
   "outputs": [],
   "source": [
    "## 8. Boolean Filtering with Lists\n",
    "## Objective:\n",
    "## Given a list of names, prompt the user for a name and check if it’s in the list.\n",
    "## Print an appropriate message based on the result."
   ]
  },
  {
   "cell_type": "code",
   "execution_count": null,
   "id": "783f8095",
   "metadata": {},
   "outputs": [
    {
     "name": "stdout",
     "output_type": "stream",
     "text": [
      "davide is not in the list!\n"
     ]
    }
   ],
   "source": [
    "names = ['alice', 'bob', 'carol']\n",
    "\n",
    "prompt_1 = input(\"Enter a name:\")\n",
    "\n",
    "if prompt_1 in names:\n",
    "    print(prompt_1, \"is in the list!\")\n",
    "else:\n",
    "    print(prompt_1, \"is not in the list!\")\n"
   ]
  },
  {
   "cell_type": "code",
   "execution_count": null,
   "id": "6c97cce7",
   "metadata": {},
   "outputs": [],
   "source": []
  },
  {
   "cell_type": "code",
   "execution_count": null,
   "id": "a74ade7b",
   "metadata": {},
   "outputs": [],
   "source": [
    "## 9. While Loop with Input Validation\n",
    "## Objective:\n",
    "## Create a loop that keeps asking the user for a number between 1 and 10.\n",
    "## If the input is not valid, prompt again. When a valid number is entered,\n",
    "## print a thank you message and exit."
   ]
  },
  {
   "cell_type": "code",
   "execution_count": null,
   "id": "234feca3",
   "metadata": {},
   "outputs": [
    {
     "name": "stdout",
     "output_type": "stream",
     "text": [
      "Thank you! You entered 4.\n"
     ]
    }
   ],
   "source": [
    "\n",
    "while True:\n",
    "\n",
    "    prompt = input(\"Enter a number (1-10):\")    ## You should ask for input inside the loop, not before it. \n",
    "                                                ## Otherwise, the loop will not re-prompt the user if the input is invalid.\n",
    "    prompt = int(prompt)\n",
    "    if prompt >= 1 and prompt <= 10:\n",
    "        break\n",
    "print(\"Thank you! You entered \" + str(prompt) + \".\") ## reminder the + joins (concatenate) the strings. This enable to create one comple string.\n",
    "\n"
   ]
  },
  {
   "cell_type": "code",
   "execution_count": null,
   "id": "a3876e5a",
   "metadata": {},
   "outputs": [],
   "source": []
  },
  {
   "cell_type": "code",
   "execution_count": null,
   "id": "6a473f06",
   "metadata": {},
   "outputs": [],
   "source": [
    "## 10. Comprehensive Data Collector\n",
    "## Objective:\n",
    "## Write a program that collects information about books from the user.\n",
    "##  For each book, ask for the title and author. Store the results in a list of\n",
    "##  dictionaries. Allow the user to add as many books as they like, stopping when\n",
    "##  they type 'done' for the title. Print out all collected books in the format: Title by Author."
   ]
  },
  {
   "cell_type": "code",
   "execution_count": null,
   "id": "d476ecb3",
   "metadata": {},
   "outputs": [],
   "source": []
  }
 ],
 "metadata": {
  "kernelspec": {
   "display_name": "Python 3",
   "language": "python",
   "name": "python3"
  },
  "language_info": {
   "codemirror_mode": {
    "name": "ipython",
    "version": 3
   },
   "file_extension": ".py",
   "mimetype": "text/x-python",
   "name": "python",
   "nbconvert_exporter": "python",
   "pygments_lexer": "ipython3",
   "version": "3.11.3"
  }
 },
 "nbformat": 4,
 "nbformat_minor": 5
}
