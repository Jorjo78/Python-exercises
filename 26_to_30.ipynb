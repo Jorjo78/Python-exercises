{
 "cells": [
  {
   "cell_type": "code",
   "execution_count": null,
   "id": "a25bcf54",
   "metadata": {},
   "outputs": [],
   "source": [
    "## Exercise 26: Simple If Statement\n",
    "## Objective: Use an if statement to check a condition.\n",
    "## - Write a program that prompts the user for their age using input().\n",
    "## - If the age is 18 or older, print a message that they can vote.\n",
    "## - Otherwise, print a message that they cannot vote yet.\n",
    "\n",
    "# Write your code below:\n"
   ]
  },
  {
   "cell_type": "code",
   "execution_count": null,
   "id": "9e43e50f",
   "metadata": {},
   "outputs": [],
   "source": [
    "## Exercise 27: If-Elif-Else Chain\n",
    "## Objective: Use an if-elif-else chain for branching logic.\n",
    "## - Prompt the user to enter their age.\n",
    "## - Use an if-elif-else chain to determine and print the price of a movie ticket:\n",
    "##   - Under 4: Free\n",
    "##   - 4 to under 18: $5\n",
    "##   - 18 and older: $10\n",
    "\n",
    "# Write your code below:\n"
   ]
  },
  {
   "cell_type": "code",
   "execution_count": null,
   "id": "3fb33c27",
   "metadata": {},
   "outputs": [],
   "source": [
    "## Exercise 28: Checking List Membership with If Statements\n",
    "## Objective: Test for values in a list using if statements.\n",
    "## - Create a list called banned_users with three usernames.\n",
    "## - Prompt the user to enter a username.\n",
    "## - If the username is not in the banned list, print that the user can play.\n",
    "## - If it is in the banned list, print a warning.\n",
    "\n",
    "# Write your code below:\n"
   ]
  },
  {
   "cell_type": "code",
   "execution_count": null,
   "id": "522373bf",
   "metadata": {},
   "outputs": [],
   "source": [
    "## Exercise 29: While Loop with User Input\n",
    "## Objective: Use a while loop to continually prompt the user.\n",
    "## - Write a program that keeps asking the user to enter a message.\n",
    "## - The program repeats the message back each time, until the user enters 'quit'.\n",
    "## - When the user enters 'quit', the program ends.\n",
    "\n",
    "# Write your code below:\n"
   ]
  },
  {
   "cell_type": "code",
   "execution_count": null,
   "id": "0e81e482",
   "metadata": {},
   "outputs": [],
   "source": [
    "## Exercise 30: Removing All Occurrences from a List Using While Loop\n",
    "## Objective: Use a while loop to modify a list by removing certain values.\n",
    "## - Create a list called pets that contains several types of animals, with at least two occurrences of the string 'cat'.\n",
    "## - Use a while loop to remove all 'cat' elements from the list.\n",
    "## - Print the list before and after the removal.\n",
    "\n",
    "# Write your code below:\n"
   ]
  }
 ],
 "metadata": {
  "language_info": {
   "name": "python"
  }
 },
 "nbformat": 4,
 "nbformat_minor": 5
}
