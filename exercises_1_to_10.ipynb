{
 "cells": [
  {
   "cell_type": "markdown",
   "id": "19e09020",
   "metadata": {},
   "source": [
    "## Interview"
   ]
  },
  {
   "cell_type": "code",
   "execution_count": null,
   "id": "65c5345f",
   "metadata": {},
   "outputs": [],
   "source": [
    "## 1. Variables and Strings\n",
    "\n",
    "## Create a variable called greeting that stores the message \"Welcome to the interview!\" and print it to the screen.\n",
    "## Combine a first name (first_name) and last name (last_name) into a full name with proper spacing,\n",
    "##  then print a welcome message using that full name."
   ]
  },
  {
   "cell_type": "code",
   "execution_count": 13,
   "id": "aadcd84a",
   "metadata": {},
   "outputs": [
    {
     "name": "stdout",
     "output_type": "stream",
     "text": [
      "Welcome to the interview!\n",
      "Welcome Giorgio Cavallo!\n"
     ]
    }
   ],
   "source": [
    "greeting = \"Welcome to the interview!\"\n",
    "print(greeting)\n",
    "\n",
    "def welcoming (first_name, last_name):\n",
    "    full_name = first_name + \" \" + last_name\n",
    "    print(\"Welcome \" + full_name + \"!\")\n",
    "\n",
    "\n",
    "welcoming(\"Giorgio\", \"Cavallo\")"
   ]
  },
  {
   "cell_type": "code",
   "execution_count": null,
   "id": "c38a81e5",
   "metadata": {},
   "outputs": [],
   "source": [
    "## 2. String Concatenation and Formatting\n",
    "\n",
    "## Given the variables city = \"Paris\" and country = \"France\", print a message in the format: \"Paris is in France.\""
   ]
  },
  {
   "cell_type": "code",
   "execution_count": 3,
   "id": "534a80e7",
   "metadata": {},
   "outputs": [
    {
     "name": "stdout",
     "output_type": "stream",
     "text": [
      "Paris is in France.\n"
     ]
    }
   ],
   "source": [
    "\n",
    "def concatenation(city, country):\n",
    "    sentence = city + \" \" + \"is\" + \" \" \"in\" + \" \" + country + \".\"\n",
    "    print(sentence)\n",
    "\n",
    "concatenation(\"Paris\", \"France\")"
   ]
  },
  {
   "cell_type": "code",
   "execution_count": null,
   "id": "201e5141",
   "metadata": {},
   "outputs": [],
   "source": [
    "## 3. Lists: Creation and Access\n",
    "\n",
    "## Create a list called languages containing at least three programming languages.\n",
    "## Print the first and last item from the list using list indexing.\n",
    "## Add a new language to the end of the list, and print the updated list."
   ]
  },
  {
   "cell_type": "code",
   "execution_count": null,
   "id": "a37f0abc",
   "metadata": {},
   "outputs": [
    {
     "name": "stdout",
     "output_type": "stream",
     "text": [
      "python\n",
      "java\n",
      "['python', 'R', 'java', 'c++']\n"
     ]
    }
   ],
   "source": [
    "languages = [\"python\", \"R\", \"java\"]\n",
    "print(languages[0])\n",
    "print(languages[-1])\n",
    "languages.append(\"c++\")\n",
    "print(languages)"
   ]
  },
  {
   "cell_type": "code",
   "execution_count": null,
   "id": "8cd60994",
   "metadata": {},
   "outputs": [],
   "source": [
    "## 4. Looping Through Lists\n",
    "\n",
    "## Write a loop that prints out each item in the languages list on a separate line."
   ]
  },
  {
   "cell_type": "code",
   "execution_count": 13,
   "id": "73f87aba",
   "metadata": {},
   "outputs": [
    {
     "name": "stdout",
     "output_type": "stream",
     "text": [
      "python\n",
      "R\n",
      "java\n",
      "c++\n"
     ]
    }
   ],
   "source": [
    "for language in languages:\n",
    "    print(language)"
   ]
  },
  {
   "cell_type": "code",
   "execution_count": null,
   "id": "9cec098e",
   "metadata": {},
   "outputs": [],
   "source": [
    "## 5. List Comprehension\n",
    "\n",
    "## Using a list comprehension, create a list called squares that contains the squares of numbers from 1 to 10 (inclusive)."
   ]
  },
  {
   "cell_type": "code",
   "execution_count": null,
   "id": "d75cea54",
   "metadata": {},
   "outputs": [
    {
     "name": "stdout",
     "output_type": "stream",
     "text": [
      "[1, 4, 9, 16, 25, 36, 49, 64, 81]\n"
     ]
    }
   ],
   "source": [
    "## normal loop\n",
    "\n",
    "squares = []\n",
    "X = range(1,10,1)\n",
    "for number in X:\n",
    "    i = number ** 2\n",
    "    squares.append(i)\n",
    "print(squares) \n",
    "\n"
   ]
  },
  {
   "cell_type": "code",
   "execution_count": null,
   "id": "3e48b6fa",
   "metadata": {},
   "outputs": [
    {
     "data": {
      "text/plain": [
       "[1, 4, 9, 16, 25, 36, 49, 64, 81]"
      ]
     },
     "execution_count": 26,
     "metadata": {},
     "output_type": "execute_result"
    }
   ],
   "source": [
    "## list comprehension\n",
    "X = range(1,10,1)\n",
    "[number ** 2 for number in X]"
   ]
  },
  {
   "cell_type": "code",
   "execution_count": null,
   "id": "ff893bcc",
   "metadata": {},
   "outputs": [],
   "source": [
    "## 6. List Slicing\n",
    "\n",
    "## Given the list nums = [10, 20, 30, 40, 50], create a new list containing just the first two items using slicing."
   ]
  },
  {
   "cell_type": "code",
   "execution_count": 28,
   "id": "d30718a4",
   "metadata": {},
   "outputs": [
    {
     "data": {
      "text/plain": [
       "[10, 20]"
      ]
     },
     "execution_count": 28,
     "metadata": {},
     "output_type": "execute_result"
    }
   ],
   "source": [
    "nums = [10, 20, 30, 40, 50]\n",
    "new_list = nums[0:2]\n",
    "new_list"
   ]
  },
  {
   "cell_type": "code",
   "execution_count": null,
   "id": "585c52e9",
   "metadata": {},
   "outputs": [],
   "source": [
    "## 7. Copying Lists\n",
    "\n",
    "## Show how to make a copy of the languages list. Change one item in the copied list and print both lists to show they are now different."
   ]
  },
  {
   "cell_type": "code",
   "execution_count": 33,
   "id": "060fef34",
   "metadata": {},
   "outputs": [
    {
     "name": "stdout",
     "output_type": "stream",
     "text": [
      "['python', 'R', 'java', 'c++']\n",
      "['rubi', 'R', 'java', 'c++']\n"
     ]
    }
   ],
   "source": [
    "new_languages = languages[:]\n",
    "new_languages[0] = \"rubi\" \n",
    "print(languages)\n",
    "print(new_languages)"
   ]
  },
  {
   "cell_type": "code",
   "execution_count": null,
   "id": "ea7f34b0",
   "metadata": {},
   "outputs": [],
   "source": [
    "## 8. Tuples\n",
    "\n",
    "## Create a tuple called dimensions containing two numbers. Print out both numbers."
   ]
  },
  {
   "cell_type": "code",
   "execution_count": 34,
   "id": "d7b52244",
   "metadata": {},
   "outputs": [
    {
     "name": "stdout",
     "output_type": "stream",
     "text": [
      "(12, 15)\n"
     ]
    }
   ],
   "source": [
    "dimensions = (12, 15)\n",
    "print(dimensions)"
   ]
  },
  {
   "cell_type": "code",
   "execution_count": null,
   "id": "b08bac8a",
   "metadata": {},
   "outputs": [],
   "source": [
    "## 9. Conditional Statements\n",
    "\n",
    "## Write an if-elif-else statement that checks the value of a variable called age.\n",
    "## If age is less than 4, print \"Free admission.\"\n",
    "## If age is less than 18, print \"Child ticket.\"\n",
    "## Otherwise, print \"Adult ticket.\""
   ]
  },
  {
   "cell_type": "code",
   "execution_count": 36,
   "id": "d6ae9f7d",
   "metadata": {},
   "outputs": [
    {
     "name": "stdout",
     "output_type": "stream",
     "text": [
      "Child ticket\n"
     ]
    }
   ],
   "source": [
    "age = 6\n",
    "\n",
    "if age < 4:\n",
    "    print(\"Free admission\"),\n",
    "elif age < 18:\n",
    "    print(\"Child ticket\"),\n",
    "else:\n",
    "    print(\"Adult ticket\")"
   ]
  },
  {
   "cell_type": "code",
   "execution_count": null,
   "id": "b8861d53",
   "metadata": {},
   "outputs": [],
   "source": [
    "## 10. Dictionaries\n",
    "\n",
    "## Create a dictionary called person with keys for name and age. Print a message that includes both values."
   ]
  },
  {
   "cell_type": "code",
   "execution_count": 51,
   "id": "d5c46d18",
   "metadata": {},
   "outputs": [
    {
     "name": "stdout",
     "output_type": "stream",
     "text": [
      "My name is Giorgio, my age is 36\n"
     ]
    }
   ],
   "source": [
    "person = {'name': 'Giorgio', 'age': 36}\n",
    "person\n",
    "print(\"My name is\" + \" \" + person[\"name\"] + \",\" + \" \" + \"my age is\" + \" \" + str(person[\"age\"]))"
   ]
  }
 ],
 "metadata": {
  "kernelspec": {
   "display_name": "Python 3",
   "language": "python",
   "name": "python3"
  },
  "language_info": {
   "codemirror_mode": {
    "name": "ipython",
    "version": 3
   },
   "file_extension": ".py",
   "mimetype": "text/x-python",
   "name": "python",
   "nbconvert_exporter": "python",
   "pygments_lexer": "ipython3",
   "version": "3.11.3"
  }
 },
 "nbformat": 4,
 "nbformat_minor": 5
}
