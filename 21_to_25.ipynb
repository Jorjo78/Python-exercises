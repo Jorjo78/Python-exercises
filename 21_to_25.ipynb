{
 "cells": [
  {
   "cell_type": "code",
   "execution_count": null,
   "id": "c20d7590",
   "metadata": {},
   "outputs": [],
   "source": [
    "## Exercise 21: List Creation, Insertion, and Deletion\n",
    "## Objective: Practice creating and manipulating a list by adding, inserting, and removing elements.\n",
    "## - Create an empty list called `users`.\n",
    "## - Add three names to the list using `append()`.\n",
    "## - Insert a new name at the beginning of the list and another at position 3.\n",
    "## - Remove one user by value and one by index.\n",
    "## - Print the final state of the list after each operation.\n",
    "\n",
    "# Write your code below:"
   ]
  },
  {
   "cell_type": "code",
   "execution_count": 28,
   "id": "cf4ccd31",
   "metadata": {},
   "outputs": [
    {
     "name": "stdout",
     "output_type": "stream",
     "text": [
      "[]\n",
      "['davide', 'sara', 'francesca']\n",
      "['veronica', 'davide', 'sara', 'davide', 'francesca']\n",
      "['davide', 'sara', 'davide']\n"
     ]
    }
   ],
   "source": [
    "users = []\n",
    "print(users)\n",
    "\n",
    "users.append(\"davide\")\n",
    "users.append(\"sara\")\n",
    "users.append(\"francesca\")\n",
    "\n",
    "print(users)\n",
    "\n",
    "users.insert(0,\"veronica\")\n",
    "users.insert(3,\"davide\")\n",
    "\n",
    "print(users)\n",
    "\n",
    "users.remove(\"francesca\")\n",
    "del users[0]\n",
    "\n",
    "print(users)"
   ]
  },
  {
   "cell_type": "code",
   "execution_count": null,
   "id": "a7f6c933",
   "metadata": {},
   "outputs": [],
   "source": [
    "## Exercise 22: Sorting and Reversing a List\n",
    "## Objective: Use sorting and reversing methods on a list.\n",
    "## - Start with a list of at least five usernames.\n",
    "## - Sort the list alphabetically (permanently).\n",
    "## - Sort the list in reverse alphabetical order (permanently).\n",
    "## - Print a temporarily sorted version of the list in both normal and reverse order, leaving the original list unchanged.\n",
    "## - Reverse the list’s order.\n",
    "## - Print the list after each operation.\n",
    "\n",
    "# Write your code below:\n"
   ]
  },
  {
   "cell_type": "code",
   "execution_count": 10,
   "id": "78fcb790",
   "metadata": {},
   "outputs": [
    {
     "name": "stdout",
     "output_type": "stream",
     "text": [
      "Alphabetically sorted: ['alessio', 'david', 'federico', 'francois', 'serena']\n",
      "Reverse alphabetically sorted: ['serena', 'francois', 'federico', 'david', 'alessio']\n",
      "Temporarily sorted: ['alessio', 'david', 'federico', 'francois', 'serena']\n",
      "Temporarily reverse sorted: ['serena', 'francois', 'federico', 'david', 'alessio']\n",
      "Reversed order: ['alessio', 'david', 'federico', 'francois', 'serena']\n"
     ]
    }
   ],
   "source": [
    "usernames = ['david','serena', 'francois', 'alessio','federico']\n",
    "# Permanent alphabetical sort\n",
    "usernames.sort()\n",
    "print('Alphabetically sorted:', usernames)\n",
    "\n",
    "# Permanent reverse alphabetical sort\n",
    "usernames.sort(reverse=True)\n",
    "print('Reverse alphabetically sorted:', usernames)\n",
    "\n",
    "# Temporary sort (normal order)\n",
    "print('Temporarily sorted:', sorted(usernames))\n",
    "\n",
    "# Temporary sort (reverse order)\n",
    "print('Temporarily reverse sorted:', sorted(usernames, reverse=True))\n",
    "\n",
    "# Reverse the list’s order\n",
    "usernames.reverse()\n",
    "print('Reversed order:', usernames)"
   ]
  },
  {
   "cell_type": "code",
   "execution_count": null,
   "id": "378d4ba6",
   "metadata": {},
   "outputs": [],
   "source": [
    "## Exercise 23: List Indexing, Slicing, and Modification\n",
    "## Objective: Work with list indexing, negative indices, slicing, and element modification.\n",
    "## - Create a list with five user names.\n",
    "## - Access and print the first, second, and last elements using both positive and negative indices.\n",
    "## - Change the first and second-to-last elements to different names.\n",
    "## - Print the first three elements, the middle three elements, and the last two elements using slicing.\n",
    "\n",
    "# Write your code below:\n"
   ]
  },
  {
   "cell_type": "code",
   "execution_count": 23,
   "id": "4305c0b9",
   "metadata": {},
   "outputs": [
    {
     "name": "stdout",
     "output_type": "stream",
     "text": [
      "david\n",
      "serena\n",
      "federico\n",
      "['Tommaso', 'Alessandro', 'francois', 'alessio', 'Gabriele']\n",
      "['Tommaso', 'Alessandro', 'francois']\n",
      "['Alessandro', 'francois', 'alessio']\n",
      "['alessio', 'Gabriele']\n"
     ]
    }
   ],
   "source": [
    "usernames = ['david','serena', 'francois', 'alessio','federico']\n",
    "\n",
    "print(usernames[0])\n",
    "print(usernames[1])\n",
    "print(usernames[-1])\n",
    "\n",
    "usernames[0] = \"Tommaso\"\n",
    "usernames[1] = \"Alessandro\"\n",
    "usernames[-1] = \"Gabriele\"\n",
    "\n",
    "print(usernames)\n",
    "\n",
    "print(usernames[:3])\n",
    "print(usernames[1:4])\n",
    "print(usernames[-2:])\n",
    "      "
   ]
  },
  {
   "cell_type": "code",
   "execution_count": null,
   "id": "2b995a67",
   "metadata": {},
   "outputs": [],
   "source": [
    "## Exercise 24: Copying Lists and Using Loops\n",
    "## Objective: Practice copying lists and looping through them.\n",
    "## - Create a list of five animal names.\n",
    "## - Make a copy of the list using slicing.\n",
    "## - Add two new animals to the original list.\n",
    "## - Use a loop to print all animals in the original list with a personalized message.\n",
    "## - Use another loop to print all animals in the copied list with a different message.\n",
    "## - Print both lists to show they are now different.\n",
    "\n",
    "# Write your code below:\n"
   ]
  },
  {
   "cell_type": "code",
   "execution_count": 39,
   "id": "3932382c",
   "metadata": {},
   "outputs": [
    {
     "name": "stdout",
     "output_type": "stream",
     "text": [
      "['dog', 'pig', 'horse', 'bird', 'snake']\n",
      "['dog', 'pig', 'horse', 'bird', 'snake', 'monkey', 'cat']\n",
      "I like this animal dog!\n",
      "I like this animal pig!\n",
      "I like this animal horse!\n",
      "I like this animal bird!\n",
      "I like this animal snake!\n",
      "This animal is in the original list dog!\n",
      "This animal is in the original list pig!\n",
      "This animal is in the original list horse!\n",
      "This animal is in the original list bird!\n",
      "This animal is in the original list snake!\n",
      "This animal is in the original list monkey!\n",
      "This animal is in the original list cat!\n",
      "['dog', 'pig', 'horse', 'bird', 'snake']\n",
      "['dog', 'pig', 'horse', 'bird', 'snake', 'monkey', 'cat']\n"
     ]
    }
   ],
   "source": [
    "animals = ['dog', 'pig', 'horse', 'bird', 'snake']\n",
    "copy = animals[:]\n",
    "print(copy)\n",
    "\n",
    "new_animals = ['monkey', 'cat']\n",
    "animals.extend(new_animals)\n",
    "print(animals)\n",
    "\n",
    "\n",
    "for animal in copy:\n",
    "    print(\"I like this animal\", animal + \"!\")\n",
    "\n",
    "for animal in animals:\n",
    "    print(\"This animal is in the original list\", animal + \"!\")\n",
    "\n",
    "print(copy)\n",
    "print(animals)\n",
    "\n"
   ]
  },
  {
   "cell_type": "code",
   "execution_count": null,
   "id": "7aa7e6c2",
   "metadata": {},
   "outputs": [],
   "source": [
    "## Exercise 25: Nesting Dictionaries and Lists\n",
    "## Objective: Practice nesting dictionaries within lists and lists within dictionaries.\n",
    "## - Create a list called `users`. Each user should be represented by a dictionary with the keys: `'first'`, `'last'`, and `'username'`.\n",
    "## - Add at least two users to the list.\n",
    "## - Create a dictionary called `fav_languages`, where each key is a user’s username and the value is a list of their favorite programming languages.\n",
    "## - Loop through the `users` list, print each user’s full name, and then print their favorite languages from the `fav_languages` dictionary.\n",
    "\n",
    "# Write your code below:\n",
    "\n",
    "## REVIEW THOSE COMMENTS!\n",
    "# The users list must contain dictionaries, each representing a user with 'first', 'last', and 'username' keys.\n",
    "# Make sure the key you use to look up favorite languages in fav_languages matches a value in the user dictionary.\n",
    "# For example, if you use user['first'] as the key, fav_languages must use the same string as a key.\n",
    "# If you add a new user, you must also add a matching entry in fav_languages, or you will get a KeyError.\n",
    "# Do not use an inner loop over fav_languages.values() in your for loop; just look up the current user's favorite languages.\n",
    "# Example: print(fav_languages[user['first']])\n",
    "# If the keys in fav_languages and the user dictionary do not match, you will get a KeyError."
   ]
  },
  {
   "cell_type": "code",
   "execution_count": null,
   "id": "2b76f9fb",
   "metadata": {},
   "outputs": [
    {
     "name": "stdout",
     "output_type": "stream",
     "text": [
      "[{'first': 'Davide', 'last': 'Rossi', 'username': 'David'}, {'first': 'Veronica', 'last': 'Bianchi', 'username': 'Vero'}, {'first': 'Serena', 'last': 'Verdi', 'username': 'Sere'}]\n",
      "[{'first': 'Davide', 'last': 'Rossi', 'username': 'David'}, {'first': 'Veronica', 'last': 'Bianchi', 'username': 'Vero'}, {'first': 'Serena', 'last': 'Verdi', 'username': 'Sere'}, {'first': 'Alessio', 'last': 'Breda', 'username': 'Ale'}]\n",
      "{'Davide': ['python'], 'Veronica': ['R'], 'Serena': ['C++'], 'Alessio': ['Java']}\n",
      "Davide Rossi\n",
      "['python']\n",
      "Veronica Bianchi\n",
      "['R']\n",
      "Serena Verdi\n",
      "['C++']\n",
      "Alessio Breda\n",
      "['Java']\n"
     ]
    }
   ],
   "source": [
    "# Create a list of users, each represented by a dictionary with 'first', 'last', and 'username' keys\n",
    "users = [\n",
    "    {'first': 'Davide', 'last': 'Rossi', 'username': 'davide'},\n",
    "    {'first': 'Veronica', 'last': 'Bianchi', 'username': 'veronica'},\n",
    "    {'first': 'Serena', 'last': 'Verdi', 'username': 'serena'}\n",
    "]\n",
    "\n",
    "print(users)  # Print the initial list of users\n",
    "\n",
    "# Add a new user to the list\n",
    "users.append({'first': 'Alessio', 'last': 'Breda', 'username': 'alessio'})\n",
    "print(users)  # Print the updated list of users\n",
    "\n",
    "# Create a dictionary mapping usernames to lists of favorite programming languages\n",
    "fav_languages = {\n",
    "    'davide': ['python'],\n",
    "    'veronica': ['R'],\n",
    "    'serena': ['C++'],\n",
    "    'alessio': ['Java']\n",
    "}\n",
    "print(fav_languages)  # Print the favorite languages dictionary\n",
    "\n",
    "# Loop through each user, print their full name and their favorite languages\n",
    "for user in users:\n",
    "    print(user['first'], user['last'])  # Print user's full name\n",
    "    print(fav_languages[user['username']])  # Print user's favorite languages\n",
    "\n",
    "\n",
    "# FIRST PRINT\n",
    "## user['first'] gets the user's first name from the dictionary (e.g., 'Davide').\n",
    "## user['last'] gets the user's last name (e.g., 'Rossi').\n",
    "\n",
    "# SECOND PRINT\n",
    "## user['username'] gets the username from the user dictionary (e.g., 'davide').\n",
    "## fav_languages[user['username']] looks up that username in the fav_languages\n",
    "## dictionary and gets the list of favorite languages for that user (e.g., ['python']).\n"
   ]
  },
  {
   "cell_type": "code",
   "execution_count": null,
   "id": "e44e6991",
   "metadata": {},
   "outputs": [],
   "source": []
  },
  {
   "cell_type": "code",
   "execution_count": null,
   "id": "816f4421",
   "metadata": {},
   "outputs": [],
   "source": []
  }
 ],
 "metadata": {
  "kernelspec": {
   "display_name": "Python 3",
   "language": "python",
   "name": "python3"
  },
  "language_info": {
   "codemirror_mode": {
    "name": "ipython",
    "version": 3
   },
   "file_extension": ".py",
   "mimetype": "text/x-python",
   "name": "python",
   "nbconvert_exporter": "python",
   "pygments_lexer": "ipython3",
   "version": "3.11.3"
  }
 },
 "nbformat": 4,
 "nbformat_minor": 5
}
